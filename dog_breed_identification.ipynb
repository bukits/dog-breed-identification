{
  "nbformat": 4,
  "nbformat_minor": 0,
  "metadata": {
    "colab": {
      "name": "dog_breed_identification.ipynb",
      "provenance": [],
      "collapsed_sections": [],
      "include_colab_link": true
    },
    "kernelspec": {
      "display_name": "Python 3",
      "name": "python3"
    },
    "language_info": {
      "name": "python"
    }
  },
  "cells": [
    {
      "cell_type": "markdown",
      "metadata": {
        "id": "view-in-github",
        "colab_type": "text"
      },
      "source": [
        "<a href=\"https://colab.research.google.com/github/bukits/dog-breed-identification/blob/main/dog_breed_identification.ipynb\" target=\"_parent\"><img src=\"https://colab.research.google.com/assets/colab-badge.svg\" alt=\"Open In Colab\"/></a>"
      ]
    },
    {
      "cell_type": "code",
      "metadata": {
        "colab": {
          "base_uri": "https://localhost:8080/"
        },
        "id": "d_OaIBWDkxEk",
        "outputId": "1776ad75-eca5-4965-dcc9-5a71de328ddc"
      },
      "source": [
        "from google.colab import drive\n",
        "drive.mount('/content/drive')"
      ],
      "execution_count": 2,
      "outputs": [
        {
          "output_type": "stream",
          "name": "stdout",
          "text": [
            "Mounted at /content/drive\n"
          ]
        }
      ]
    },
    {
      "cell_type": "code",
      "metadata": {
        "id": "3bPSjXn3u1xC"
      },
      "source": [
        "import os\n",
        "import cv2\n",
        "import numpy as np"
      ],
      "execution_count": 3,
      "outputs": []
    },
    {
      "cell_type": "code",
      "metadata": {
        "id": "boRgHTqMX9Uk"
      },
      "source": [
        "def data_preprocessing(data_dir, IMG_SIZE = 64):\n",
        "  img_data = []\n",
        "  breed = []\n",
        "\n",
        "  for label in os.listdir(data_dir):\n",
        "    breed_name = label.split(\"-\")[-1]\n",
        "    for image_name in os.listdir(os.path.join(data_dir, label)):\n",
        "      image_path = os.path.join(data_dir, label, image_name)\n",
        "      img = cv2.imread(image_path, cv2.COLOR_BGR2RGB)\n",
        "      img = cv2.resize(img, (IMG_SIZE, IMG_SIZE), interpolation=cv2.INTER_AREA)\n",
        "      img_data.append(img)\n",
        "      breed.append(breed_name)\n",
        "  img_data = np.array(img_data)\n",
        "  breed = np.array(breed)\n",
        "  return img_data, breed"
      ],
      "execution_count": 4,
      "outputs": []
    },
    {
      "cell_type": "code",
      "metadata": {
        "colab": {
          "base_uri": "https://localhost:8080/"
        },
        "id": "1iwbfkbGajyw",
        "outputId": "01b8035e-752e-4f87-9cad-3c57aca3d351"
      },
      "source": [
        "data_dir = '/content/drive/MyDrive/Images'\n",
        "\n",
        "X, Y = data_preprocessing(data_dir)\n",
        "\n",
        "print('Shape of image is: {}' .format(X.shape))\n",
        "print('Shape of labels is: {}' .format(Y.shape))"
      ],
      "execution_count": 5,
      "outputs": [
        {
          "output_type": "stream",
          "name": "stdout",
          "text": [
            "Shape of image is: (20598, 64, 64, 3)\n",
            "Shape of labels is: (20598,)\n"
          ]
        }
      ]
    }
  ]
}