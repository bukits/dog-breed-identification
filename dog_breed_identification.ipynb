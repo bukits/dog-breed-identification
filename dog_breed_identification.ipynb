{
  "nbformat": 4,
  "nbformat_minor": 0,
  "metadata": {
    "colab": {
      "name": "dog_breed_identification.ipynb",
      "provenance": [],
      "collapsed_sections": [],
      "include_colab_link": true
    },
    "kernelspec": {
      "display_name": "Python 3",
      "name": "python3"
    },
    "language_info": {
      "name": "python"
    }
  },
  "cells": [
    {
      "cell_type": "markdown",
      "metadata": {
        "id": "view-in-github",
        "colab_type": "text"
      },
      "source": [
        "<a href=\"https://colab.research.google.com/github/bukits/dog-breed-identification/blob/main/dog_breed_identification.ipynb\" target=\"_parent\"><img src=\"https://colab.research.google.com/assets/colab-badge.svg\" alt=\"Open In Colab\"/></a>"
      ]
    },
    {
      "cell_type": "code",
      "metadata": {
        "id": "HNZ64gVGHxHe"
      },
      "source": [
        "!git clone https://github.com/bukits/dog-breed-identification.git"
      ],
      "execution_count": null,
      "outputs": []
    },
    {
      "cell_type": "code",
      "metadata": {
        "id": "3bPSjXn3u1xC"
      },
      "source": [
        "import os\n",
        "from tensorflow.keras.preprocessing.image import ImageDataGenerator\n",
        "from shutil import copyfile, rmtree\n",
        "import numpy as np"
      ],
      "execution_count": 4,
      "outputs": []
    },
    {
      "cell_type": "code",
      "metadata": {
        "id": "WcmS0mMSzLCv"
      },
      "source": [
        "#only slpitting script (do not run)\n",
        "def split_data(base_folder, train_dir, valid_dir, test_dir, valid_split = 0.2, test_split = 0.1):\n",
        "  if not os.path.exists(base_folder):\n",
        "        raise OSError('base_folder does not exist')\n",
        "\n",
        "  if not os.path.exists(train_dir):\n",
        "      os.makedirs(train_dir)\n",
        "  if not os.path.exists(valid_dir):\n",
        "      os.makedirs(valid_dir)\n",
        "  if not os.path.exists(test_dir):\n",
        "      os.makedirs(test_dir)\n",
        "\n",
        "  for label in sorted(os.listdir(base_folder)):\n",
        "    original_path = os.path.join(base_folder, label)\n",
        "    train_path = os.path.join(train_dir, label)\n",
        "    valid_path = os.path.join(valid_dir, label)\n",
        "    test_path = os.path.join(test_dir, label)\n",
        "\n",
        "    if not os.path.exists(train_path):\n",
        "            os.makedirs(train_path)\n",
        "    if not os.path.exists(valid_path):\n",
        "            os.makedirs(valid_path)\n",
        "    if not os.path.exists(test_path):\n",
        "            os.makedirs(test_path)\n",
        "\n",
        "    images = sorted(os.listdir(os.path.join(base_folder, label)))\n",
        "    v_point = int(len(images)*(1-valid_split-test_split))\n",
        "    t_point = int(len(images)*(1-test_split))\n",
        "\n",
        "    for i in range(0, v_point):\n",
        "      img = images[i]\n",
        "      copyfile(os.path.join(original_path, img), os.path.join(train_path, img))\n",
        "\n",
        "    for i in range(v_point, t_point):\n",
        "      img = images[i]\n",
        "      copyfile(os.path.join(original_path, img), os.path.join(valid_path, img))\n",
        "\n",
        "    for i in range(t_point, len(images)):\n",
        "      img = images[i]\n",
        "      copyfile(os.path.join(original_path, img), os.path.join(test_path, img))"
      ],
      "execution_count": 5,
      "outputs": []
    },
    {
      "cell_type": "code",
      "metadata": {
        "id": "Ob8JGvUSvUFi"
      },
      "source": [
        "#split the data (do not run)\n",
        "data_dir = '/content/drive/MyDrive/Images'\n",
        "train_dir = '/content/data/train'\n",
        "valid_dir = '/content/data/valid'\n",
        "test_dir = '/content/data/test'\n",
        "\n",
        "split_data(data_dir, train_dir, valid_dir, test_dir)"
      ],
      "execution_count": null,
      "outputs": []
    },
    {
      "cell_type": "code",
      "metadata": {
        "id": "cRxK3FVQaeJG",
        "colab": {
          "base_uri": "https://localhost:8080/"
        },
        "outputId": "efaadf9c-6115-46ed-9573-687bed22df04"
      },
      "source": [
        "train_dir = '/content/dog-breed-identification/data/train'\n",
        "valid_dir = '/content/dog-breed-identification/data/valid'\n",
        "test_dir = '/content/dog-breed-identification/data/test'\n",
        "\n",
        "train_datagen = ImageDataGenerator(\n",
        "        rescale=1./255,\n",
        "        shear_range=0.2,\n",
        "        zoom_range=0.2,\n",
        "        horizontal_flip=True)\n",
        "\n",
        "valid_datagen = ImageDataGenerator(rescale=1./255)\n",
        "test_datagen = ImageDataGenerator(rescale=1./255)\n",
        "\n",
        "img_height = 64\n",
        "img_width  = 64\n",
        "\n",
        "train_generator = train_datagen.flow_from_directory(train_dir, target_size=(img_height,img_width),\n",
        "                                                    batch_size=20, class_mode='categorical')\n",
        "valid_generator = valid_datagen.flow_from_directory(valid_dir, target_size=(img_height, img_width),\n",
        "                                                   batch_size=20, class_mode='categorical')\n",
        "test_generator = test_datagen.flow_from_directory(test_dir, target_size=(img_height, img_width), \n",
        "                                                  batch_size=1, class_mode=None, shuffle=False)\n",
        "\n",
        "labels = train_generator.class_indices\n",
        "nb_classes = len(labels)"
      ],
      "execution_count": 6,
      "outputs": [
        {
          "output_type": "stream",
          "name": "stdout",
          "text": [
            "Found 14369 images belonging to 120 classes.\n",
            "Found 4117 images belonging to 120 classes.\n",
            "Found 2112 images belonging to 120 classes.\n"
          ]
        }
      ]
    },
    {
      "cell_type": "code",
      "metadata": {
        "id": "HQFZFrInI-wI"
      },
      "source": [
        "import tensorflow.keras\n",
        "from tensorflow.keras.models import Sequential\n",
        "from tensorflow.keras.layers import Dense, Conv2D, MaxPooling2D, Dropout, Flatten\n",
        "from tensorflow.keras.callbacks import EarlyStopping"
      ],
      "execution_count": 12,
      "outputs": []
    },
    {
      "cell_type": "code",
      "metadata": {
        "id": "fXAHsJibJHlc"
      },
      "source": [
        "model = Sequential()\n",
        "model.add(Conv2D(32, kernel_size=(3, 3), activation='relu', input_shape=(img_height, img_width, 3,))) \n",
        "model.add(MaxPooling2D(pool_size=(2, 2), strides=2))\n",
        "model.add(Dropout(0.75))\n",
        "\n",
        "model.add(Conv2D(64, kernel_size=(3, 3), activation='relu'))\n",
        "model.add(MaxPooling2D(pool_size=(2, 2), strides=2))\n",
        "model.add(Dropout(0.75))\n",
        "\n",
        "model.add(Flatten())\n",
        "model.add(Dense(128, activation='relu'))\n",
        "model.add(Dropout(0.5))\n",
        "model.add(Dense(nb_classes, activation='softmax'))\n",
        "\n",
        "model.compile(loss='categorical_crossentropy', optimizer='adam', metrics=['accuracy'])\n",
        "\n",
        "model.summary()"
      ],
      "execution_count": null,
      "outputs": []
    },
    {
      "cell_type": "code",
      "metadata": {
        "colab": {
          "base_uri": "https://localhost:8080/"
        },
        "id": "BGwrXOv-KigG",
        "outputId": "3ac63d7b-2ef2-45f6-e7db-a00203570339"
      },
      "source": [
        "es = EarlyStopping(patience=10, verbose=1, restore_best_weights=True)\n",
        "\n",
        "model.fit(train_generator, validation_data=valid_generator, epochs=3, callbacks=[es],\n",
        "          steps_per_epoch=100, validation_steps=1000/20)"
      ],
      "execution_count": 16,
      "outputs": [
        {
          "output_type": "stream",
          "name": "stdout",
          "text": [
            "Epoch 1/3\n",
            "100/100 [==============================] - 24s 242ms/step - loss: 4.7300 - accuracy: 0.0135 - val_loss: 4.7673 - val_accuracy: 0.0210\n",
            "Epoch 2/3\n",
            "100/100 [==============================] - 24s 242ms/step - loss: 4.7222 - accuracy: 0.0165 - val_loss: 4.7740 - val_accuracy: 0.0180\n",
            "Epoch 3/3\n",
            "100/100 [==============================] - 24s 240ms/step - loss: 4.7247 - accuracy: 0.0215 - val_loss: 4.7633 - val_accuracy: 0.0190\n"
          ]
        },
        {
          "output_type": "execute_result",
          "data": {
            "text/plain": [
              "<keras.callbacks.History at 0x7f1ba44f3d50>"
            ]
          },
          "metadata": {},
          "execution_count": 16
        }
      ]
    },
    {
      "cell_type": "code",
      "metadata": {
        "colab": {
          "base_uri": "https://localhost:8080/"
        },
        "id": "dsc_EUDyMX4j",
        "outputId": "dd17f6aa-5959-48d5-e0c2-b00802d8855d"
      },
      "source": [
        "test_loss = model.evaluate(valid_generator)"
      ],
      "execution_count": 20,
      "outputs": [
        {
          "output_type": "stream",
          "name": "stdout",
          "text": [
            "206/206 [==============================] - 19s 94ms/step - loss: 4.7610 - accuracy: 0.0194\n"
          ]
        }
      ]
    }
  ]
}