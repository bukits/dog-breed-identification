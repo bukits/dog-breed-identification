{
  "nbformat": 4,
  "nbformat_minor": 0,
  "metadata": {
    "colab": {
      "name": "dog_breed_identification.ipynb",
      "provenance": [],
      "collapsed_sections": [],
      "include_colab_link": true
    },
    "kernelspec": {
      "display_name": "Python 3",
      "name": "python3"
    },
    "language_info": {
      "name": "python"
    },
    "accelerator": "GPU"
  },
  "cells": [
    {
      "cell_type": "markdown",
      "metadata": {
        "id": "view-in-github",
        "colab_type": "text"
      },
      "source": [
        "<a href=\"https://colab.research.google.com/github/bukits/dog-breed-identification/blob/main/dog_breed_identification.ipynb\" target=\"_parent\"><img src=\"https://colab.research.google.com/assets/colab-badge.svg\" alt=\"Open In Colab\"/></a>"
      ]
    },
    {
      "cell_type": "code",
      "metadata": {
        "id": "HNZ64gVGHxHe",
        "colab": {
          "base_uri": "https://localhost:8080/"
        },
        "outputId": "740a03a2-95fc-4755-fadd-31cf73edfe54"
      },
      "source": [
        "!git clone https://github.com/bukits/dog-breed-identification.git"
      ],
      "execution_count": 1,
      "outputs": [
        {
          "output_type": "stream",
          "name": "stdout",
          "text": [
            "Cloning into 'dog-breed-identification'...\n",
            "remote: Enumerating objects: 20884, done.\u001b[K\n",
            "remote: Counting objects: 100% (27/27), done.\u001b[K\n",
            "remote: Compressing objects: 100% (19/19), done.\u001b[K\n",
            "remote: Total 20884 (delta 9), reused 24 (delta 6), pack-reused 20857\u001b[K\n",
            "Receiving objects: 100% (20884/20884), 733.82 MiB | 33.52 MiB/s, done.\n",
            "Resolving deltas: 100% (9/9), done.\n",
            "Checking out files: 100% (20600/20600), done.\n"
          ]
        }
      ]
    },
    {
      "cell_type": "code",
      "metadata": {
        "id": "wlSawVzUbSoa"
      },
      "source": [
        "from google.colab import drive\n",
        "drive.mount('/content/drive')"
      ],
      "execution_count": null,
      "outputs": []
    },
    {
      "cell_type": "code",
      "metadata": {
        "id": "3bPSjXn3u1xC"
      },
      "source": [
        "import os\n",
        "from tensorflow.keras.preprocessing.image import ImageDataGenerator\n",
        "from shutil import copyfile\n",
        "import numpy as np"
      ],
      "execution_count": 2,
      "outputs": []
    },
    {
      "cell_type": "code",
      "metadata": {
        "id": "WcmS0mMSzLCv"
      },
      "source": [
        "#only slpitting script (do not run)\n",
        "def split_data(base_folder, train_dir, valid_dir, test_dir, valid_split = 0.2, test_split = 0.1):\n",
        "  if not os.path.exists(base_folder):\n",
        "        raise OSError('base_folder does not exist')\n",
        "\n",
        "  if not os.path.exists(train_dir):\n",
        "      os.makedirs(train_dir)\n",
        "  if not os.path.exists(valid_dir):\n",
        "      os.makedirs(valid_dir)\n",
        "  if not os.path.exists(test_dir):\n",
        "      os.makedirs(test_dir)\n",
        "\n",
        "  for label in sorted(os.listdir(base_folder)):\n",
        "    original_path = os.path.join(base_folder, label)\n",
        "    train_path = os.path.join(train_dir, label)\n",
        "    valid_path = os.path.join(valid_dir, label)\n",
        "    test_path = os.path.join(test_dir, label)\n",
        "\n",
        "    if not os.path.exists(train_path):\n",
        "            os.makedirs(train_path)\n",
        "    if not os.path.exists(valid_path):\n",
        "            os.makedirs(valid_path)\n",
        "    if not os.path.exists(test_path):\n",
        "            os.makedirs(test_path)\n",
        "\n",
        "    images = sorted(os.listdir(os.path.join(base_folder, label)))\n",
        "    v_point = int(len(images)*(1-valid_split-test_split))\n",
        "    t_point = int(len(images)*(1-test_split))\n",
        "\n",
        "    for i in range(0, v_point):\n",
        "      img = images[i]\n",
        "      copyfile(os.path.join(original_path, img), os.path.join(train_path, img))\n",
        "\n",
        "    for i in range(v_point, t_point):\n",
        "      img = images[i]\n",
        "      copyfile(os.path.join(original_path, img), os.path.join(valid_path, img))\n",
        "\n",
        "    for i in range(t_point, len(images)):\n",
        "      img = images[i]\n",
        "      copyfile(os.path.join(original_path, img), os.path.join(test_path, img))"
      ],
      "execution_count": null,
      "outputs": []
    },
    {
      "cell_type": "code",
      "metadata": {
        "id": "Ob8JGvUSvUFi"
      },
      "source": [
        "#split the data (do not run)\n",
        "data_dir = '/content/drive/MyDrive/Images'\n",
        "train_dir = '/content/data/train'\n",
        "valid_dir = '/content/data/valid'\n",
        "test_dir = '/content/data/test'\n",
        "\n",
        "split_data(data_dir, train_dir, valid_dir, test_dir)"
      ],
      "execution_count": null,
      "outputs": []
    },
    {
      "cell_type": "code",
      "metadata": {
        "id": "cRxK3FVQaeJG",
        "colab": {
          "base_uri": "https://localhost:8080/"
        },
        "outputId": "e897a370-25c5-4751-b09c-1ce59b5a5a11"
      },
      "source": [
        "train_dir = '/content/dog-breed-identification/data/train'\n",
        "valid_dir = '/content/dog-breed-identification/data/valid'\n",
        "test_dir = '/content/dog-breed-identification/data/test'\n",
        "\n",
        "train_datagen = ImageDataGenerator(\n",
        "        rescale=1./255,\n",
        "        shear_range=0.1,\n",
        "        zoom_range=0.1,\n",
        "        horizontal_flip=True)\n",
        "\n",
        "valid_datagen = ImageDataGenerator(rescale=1./255)\n",
        "test_datagen = ImageDataGenerator(rescale=1./255)\n",
        "\n",
        "img_height = 64\n",
        "img_width  = 64\n",
        "\n",
        "train_generator = train_datagen.flow_from_directory(train_dir, target_size=(img_height,img_width),\n",
        "                                                    batch_size=128, class_mode='categorical', shuffle=True)\n",
        "valid_generator = valid_datagen.flow_from_directory(valid_dir, target_size=(img_height, img_width),\n",
        "                                                   batch_size=128, class_mode='categorical', shuffle=True)\n",
        "test_generator = test_datagen.flow_from_directory(test_dir, target_size=(img_height, img_width), \n",
        "                                                  batch_size=1, class_mode=None, shuffle=False)\n",
        "\n",
        "labels = train_generator.class_indices\n",
        "nb_classes = len(labels)\n",
        "\n",
        "num_train = train_generator.samples\n",
        "num_valid = valid_generator.samples"
      ],
      "execution_count": 42,
      "outputs": [
        {
          "output_type": "stream",
          "name": "stdout",
          "text": [
            "Found 14369 images belonging to 120 classes.\n",
            "Found 4117 images belonging to 120 classes.\n",
            "Found 2112 images belonging to 120 classes.\n"
          ]
        }
      ]
    },
    {
      "cell_type": "code",
      "metadata": {
        "id": "HQFZFrInI-wI"
      },
      "source": [
        "import tensorflow.keras\n",
        "from tensorflow.keras.models import Sequential\n",
        "from tensorflow.keras.layers import Dense, Conv2D, MaxPooling2D, Dropout, Flatten\n",
        "from tensorflow.keras.callbacks import EarlyStopping, ReduceLROnPlateau"
      ],
      "execution_count": 43,
      "outputs": []
    },
    {
      "cell_type": "code",
      "metadata": {
        "id": "fXAHsJibJHlc"
      },
      "source": [
        "model = Sequential()\n",
        "model.add(Conv2D(32, kernel_size=(5, 5), activation='relu', kernel_initializer='he_normal', input_shape=(img_height, img_width, 3,))) \n",
        "model.add(MaxPooling2D(pool_size=(2, 2), strides=2))\n",
        "\n",
        "model.add(Conv2D(64, kernel_size=(5, 5), activation='relu', kernel_initializer='he_normal'))\n",
        "model.add(MaxPooling2D(pool_size=(2, 2), strides=2))\n",
        "\n",
        "model.add(Flatten())\n",
        "model.add(Dropout(0.5))\n",
        "\n",
        "model.add(Dense(128, activation='relu', kernel_initializer='he_normal'))\n",
        "model.add(Dropout(0.5))\n",
        "model.add(Dense(nb_classes, activation='softmax'))"
      ],
      "execution_count": 44,
      "outputs": []
    },
    {
      "cell_type": "code",
      "source": [
        "model.summary()"
      ],
      "metadata": {
        "colab": {
          "base_uri": "https://localhost:8080/"
        },
        "id": "EACWcR3yCoh2",
        "outputId": "0d417422-627a-4460-d541-59bbd3f6b615"
      },
      "execution_count": 45,
      "outputs": [
        {
          "output_type": "stream",
          "name": "stdout",
          "text": [
            "Model: \"sequential_7\"\n",
            "_________________________________________________________________\n",
            " Layer (type)                Output Shape              Param #   \n",
            "=================================================================\n",
            " conv2d_14 (Conv2D)          (None, 60, 60, 32)        2432      \n",
            "                                                                 \n",
            " max_pooling2d_14 (MaxPoolin  (None, 30, 30, 32)       0         \n",
            " g2D)                                                            \n",
            "                                                                 \n",
            " conv2d_15 (Conv2D)          (None, 26, 26, 64)        51264     \n",
            "                                                                 \n",
            " max_pooling2d_15 (MaxPoolin  (None, 13, 13, 64)       0         \n",
            " g2D)                                                            \n",
            "                                                                 \n",
            " flatten_7 (Flatten)         (None, 10816)             0         \n",
            "                                                                 \n",
            " dropout_14 (Dropout)        (None, 10816)             0         \n",
            "                                                                 \n",
            " dense_14 (Dense)            (None, 128)               1384576   \n",
            "                                                                 \n",
            " dropout_15 (Dropout)        (None, 128)               0         \n",
            "                                                                 \n",
            " dense_15 (Dense)            (None, 120)               15480     \n",
            "                                                                 \n",
            "=================================================================\n",
            "Total params: 1,453,752\n",
            "Trainable params: 1,453,752\n",
            "Non-trainable params: 0\n",
            "_________________________________________________________________\n"
          ]
        }
      ]
    },
    {
      "cell_type": "code",
      "source": [
        "model.compile(loss='categorical_crossentropy', optimizer='adam', metrics=['accuracy'])"
      ],
      "metadata": {
        "id": "_EANruB_CqjA"
      },
      "execution_count": 46,
      "outputs": []
    },
    {
      "cell_type": "code",
      "metadata": {
        "colab": {
          "base_uri": "https://localhost:8080/"
        },
        "id": "BGwrXOv-KigG",
        "outputId": "8ff0a627-a018-4cc7-957b-ba54366856a2"
      },
      "source": [
        "es = EarlyStopping(patience=5, verbose=1, restore_best_weights=True)\n",
        "rlrop = ReduceLROnPlateau(factor=0.5, patience=3, verbose=1)\n",
        "\n",
        "model.fit(train_generator, validation_data=valid_generator, epochs=100, callbacks=[es, rlrop],\n",
        "          steps_per_epoch=int(num_train/128)+1, validation_steps=int(num_valid/128)+1)"
      ],
      "execution_count": null,
      "outputs": [
        {
          "output_type": "stream",
          "name": "stdout",
          "text": [
            "Epoch 1/100\n",
            "113/113 [==============================] - 84s 737ms/step - loss: 4.7798 - accuracy: 0.0127 - val_loss: 4.7024 - val_accuracy: 0.0243 - lr: 0.0010\n",
            "Epoch 2/100\n",
            "113/113 [==============================] - 83s 739ms/step - loss: 4.6526 - accuracy: 0.0246 - val_loss: 4.5119 - val_accuracy: 0.0323 - lr: 0.0010\n",
            "Epoch 3/100\n",
            "113/113 [==============================] - 83s 737ms/step - loss: 4.5298 - accuracy: 0.0338 - val_loss: 4.4094 - val_accuracy: 0.0440 - lr: 0.0010\n",
            "Epoch 4/100\n",
            "113/113 [==============================] - 83s 736ms/step - loss: 4.4597 - accuracy: 0.0363 - val_loss: 4.3036 - val_accuracy: 0.0534 - lr: 0.0010\n",
            "Epoch 5/100\n",
            "113/113 [==============================] - 83s 737ms/step - loss: 4.3880 - accuracy: 0.0434 - val_loss: 4.2450 - val_accuracy: 0.0617 - lr: 0.0010\n",
            "Epoch 6/100\n",
            "113/113 [==============================] - 83s 731ms/step - loss: 4.3306 - accuracy: 0.0498 - val_loss: 4.2035 - val_accuracy: 0.0700 - lr: 0.0010\n",
            "Epoch 7/100\n",
            " 31/113 [=======>......................] - ETA: 48s - loss: 4.2840 - accuracy: 0.0549"
          ]
        }
      ]
    },
    {
      "cell_type": "code",
      "metadata": {
        "colab": {
          "base_uri": "https://localhost:8080/"
        },
        "id": "dsc_EUDyMX4j",
        "outputId": "b5c6f3e8-e6cc-48a9-95e1-fc69e9063f10"
      },
      "source": [
        "test_loss = model.evaluate(test_generator)"
      ],
      "execution_count": 19,
      "outputs": [
        {
          "output_type": "stream",
          "name": "stdout",
          "text": [
            "2112/2112 [==============================] - 12s 5ms/step - loss: 0.0000e+00 - accuracy: 0.0000e+00\n"
          ]
        }
      ]
    }
  ]
}