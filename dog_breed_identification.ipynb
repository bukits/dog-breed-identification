{
  "nbformat": 4,
  "nbformat_minor": 0,
  "metadata": {
    "colab": {
      "name": "dog_breed_identification.ipynb",
      "provenance": [],
      "collapsed_sections": [],
      "include_colab_link": true
    },
    "kernelspec": {
      "name": "python3",
      "display_name": "Python 3"
    },
    "language_info": {
      "name": "python"
    }
  },
  "cells": [
    {
      "cell_type": "markdown",
      "metadata": {
        "id": "view-in-github",
        "colab_type": "text"
      },
      "source": [
        "<a href=\"https://colab.research.google.com/github/bukits/dog-breed-identification/blob/main/dog_breed_identification.ipynb\" target=\"_parent\"><img src=\"https://colab.research.google.com/assets/colab-badge.svg\" alt=\"Open In Colab\"/></a>"
      ]
    },
    {
      "cell_type": "code",
      "metadata": {
        "colab": {
          "base_uri": "https://localhost:8080/"
        },
        "id": "d_OaIBWDkxEk",
        "outputId": "e7bc233b-82c1-4d3c-8ac5-9c5bbed666a6"
      },
      "source": [
        "from google.colab import drive\n",
        "drive.mount('/content/drive')"
      ],
      "execution_count": 1,
      "outputs": [
        {
          "output_type": "stream",
          "name": "stdout",
          "text": [
            "Mounted at /content/drive\n"
          ]
        }
      ]
    },
    {
      "cell_type": "code",
      "metadata": {
        "id": "3bPSjXn3u1xC"
      },
      "source": [
        "import os\n",
        "import cv2\n",
        "import numpy as np"
      ],
      "execution_count": 2,
      "outputs": []
    },
    {
      "cell_type": "code",
      "metadata": {
        "id": "Q7ndyZK9lB76"
      },
      "source": [
        "data_dir = '/content/drive/MyDrive/Images'\n",
        "\n",
        "labels = [ item for item in sorted(os.listdir(data_dir)) if\n",
        "           os.path.isdir(os.path.join(data_dir, item)) ]\n",
        "           \n",
        "label_dir_paths = []\n",
        "for l in labels:\n",
        "    label_dir_paths.append(os.path.join(data_dir, l))"
      ],
      "execution_count": 10,
      "outputs": []
    },
    {
      "cell_type": "code",
      "metadata": {
        "colab": {
          "base_uri": "https://localhost:8080/"
        },
        "id": "AkPRFqKDyNur",
        "outputId": "bee29336-fc4a-4cc0-b26b-27693153a1e0"
      },
      "source": [
        "X_paths = []\n",
        "Y = []\n",
        "for label_dir in label_dir_paths:\n",
        "    for img in os.scandir(label_dir):\n",
        "        X_paths.append(img.path)\n",
        "        breed_name = label_dir.split(\"-\")[-1]\n",
        "        Y.append(breed_name)\n",
        "print('Number of the images:', len(X_paths))"
      ],
      "execution_count": 11,
      "outputs": [
        {
          "output_type": "stream",
          "name": "stdout",
          "text": [
            "Number of the images: 20598\n"
          ]
        }
      ]
    },
    {
      "cell_type": "code",
      "metadata": {
        "id": "sgHaecUXzyyQ"
      },
      "source": [
        "X = []\n",
        "\n",
        "IMG_SIZE = 64\n",
        "\n",
        "def load_and_resize(image_filename):\n",
        "  img = cv2.imread(image_filename, cv2.IMREAD_COLOR)\n",
        "  X.append(cv2.resize(img, (IMG_SIZE, IMG_SIZE), interpolation=cv2.INTER_CUBIC))\n",
        "  print(len(X))\n",
        "\n",
        "for name in X_paths:\n",
        "  load_and_resize(name)\n",
        "\n",
        "X = np.array(X)\n",
        "Y = np.array(Y)"
      ],
      "execution_count": null,
      "outputs": []
    },
    {
      "cell_type": "code",
      "metadata": {
        "colab": {
          "base_uri": "https://localhost:8080/"
        },
        "id": "bFfmCp1Tvr4b",
        "outputId": "470bd30d-002f-4f82-a58a-75c317985c7b"
      },
      "source": [
        "print('Shape of image is: {}' .format(X.shape))\n",
        "print('Shape of labels is: {}' .format(Y.shape))"
      ],
      "execution_count": 30,
      "outputs": [
        {
          "output_type": "stream",
          "name": "stdout",
          "text": [
            "Shape of image is: (20598, 64, 64, 3)\n",
            "Shape of labels is: (120,)\n"
          ]
        }
      ]
    }
  ]
}